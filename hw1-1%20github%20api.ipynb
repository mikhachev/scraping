{
 "cells": [
  {
   "cell_type": "markdown",
   "metadata": {},
   "source": [
    "Посмотреть документацию к API GitHub, разобраться как вывести список репозиториев для конкретного пользователя, сохранить JSON-вывод в файле *.json."
   ]
  },
  {
   "cell_type": "code",
   "execution_count": 56,
   "metadata": {},
   "outputs": [],
   "source": [
    "import requests\n",
    "import json"
   ]
  },
  {
   "cell_type": "code",
   "execution_count": 57,
   "metadata": {},
   "outputs": [],
   "source": [
    "main_link = 'https://api.github.com/user/repos'\n",
    "username = 'mikhachev'\n",
    "req = requests.get('https://api.github.com/users/mikhachev/repos')\n",
    "\n",
    "with open('mailru.html','wb') as file:\n"
   ]
  },
  {
   "cell_type": "code",
   "execution_count": 59,
   "metadata": {},
   "outputs": [
    {
     "name": "stdout",
     "output_type": "stream",
     "text": [
      "Rep id: 181140879 name algorithms\n",
      "Rep id: 134710502 name demo\n",
      "Rep id: 137114014 name diplom2\n",
      "Rep id: 123244338 name lesson1-2\n",
      "Rep id: 129094626 name lesson2-2\n",
      "Rep id: 127503465 name lesson2-3\n",
      "Rep id: 125913503 name lesson2-4\n",
      "Rep id: 126233279 name lesson3-1\n",
      "Rep id: 126874583 name lesson3-2\n",
      "Rep id: 129603902 name lesson3-3\n",
      "Rep id: 127748760 name lesson4-1\n",
      "Rep id: 128084422 name lesson4-2\n",
      "Rep id: 128981548 name lesson4-3\n",
      "Rep id: 129300803 name lesson4-4\n",
      "Rep id: 129916170 name lesson5-1\n",
      "Rep id: 122826527 name lessons\n",
      "Rep id: 123177997 name LessonsPHP\n",
      "Rep id: 214988854 name Linux_gb\n",
      "Rep id: 215218766 name linux_gb-1\n",
      "Rep id: 196689884 name math\n",
      "Rep id: 123172827 name php-netology-21\n",
      "Rep id: 123173704 name php-netology-lesson1-2\n",
      "Rep id: 122822566 name php-netolology\n",
      "Rep id: 189696099 name Python-for-DS\n",
      "Rep id: 136750592 name quickstart-basic\n",
      "Rep id: 215710297 name scraping\n"
     ]
    }
   ],
   "source": [
    "data = json.loads(req.text)\n",
    "if req.ok:\n",
    "    data = json.loads(req.text)\n",
    "    for i in range(0, len(data)):\n",
    "        print(f\"Rep id: {data[i]['id']} name {data[i]['name']}\")"
   ]
  },
  {
   "cell_type": "code",
   "execution_count": 67,
   "metadata": {},
   "outputs": [],
   "source": [
    "with open('git.json','w', encoding='utf-8') as file:\n",
    "    #file.write(req.content)\n",
    "    json.dump(data, file)\n"
   ]
  },
  {
   "cell_type": "markdown",
   "metadata": {},
   "source": [
    " Изучить список открытых API. Найти среди них любое, требующее авторизацию (любого типа). Выполнить запросы к нему, пройдя авторизацию через curl, Postman, Python.Ответ сервера записать в файл (приложить скриншот для Postman и curl)."
   ]
  },
  {
   "cell_type": "code",
   "execution_count": 78,
   "metadata": {},
   "outputs": [
    {
     "name": "stdout",
     "output_type": "stream",
     "text": [
      "User id online: 41140\n",
      "User id online: 75069\n",
      "User id online: 162684\n",
      "User id online: 236329\n",
      "User id online: 352753\n",
      "User id online: 359537\n",
      "User id online: 688357\n",
      "User id online: 1135135\n",
      "User id online: 1403447\n",
      "User id online: 1898119\n",
      "User id online: 7891059\n",
      "User id online: 25299475\n",
      "User id online: 37349642\n",
      "User id online: 236245960\n"
     ]
    }
   ],
   "source": [
    "headers = {\n",
    "    'User-Agent':'Mozilla/5.0 (Windows NT 6.1; Win64; x64; rv:69.0) Gecko/20100101 Firefox/69.0'\n",
    "\n",
    "}\n",
    "main_link = 'https://api.vk.com/method/friends.getOnline?v=5.102'\n",
    "user_id = '328131'\n",
    "access_token = 'c2037676ba8a30c28ac4585e30fadb40689e50c869a6c2b048ebb2d867a879bc77afd8d09ae5093acf387'\n",
    "link = 'https://api.vk.com/method/friends.getOnline?v=5.102&access_token=c2037676ba8a30c28ac4585e30fadb40689e50c869a6c2b048ebb2d867a879bc77afd8d09ae5093acf387&user_id=328131'\n",
    "req = requests.get(f'{main_link}&access_token={access_token}&user_id={user_id}', headers = headers)\n",
    "if req.ok:\n",
    "    data = json.loads(req.text)\n",
    "    for i in range(0, len(data['response'])):\n",
    "        print(f\"User id online: {data['response'][i]}\")"
   ]
  },
  {
   "cell_type": "code",
   "execution_count": null,
   "metadata": {},
   "outputs": [],
   "source": []
  }
 ],
 "metadata": {
  "kernelspec": {
   "display_name": "Python 3",
   "language": "python",
   "name": "python3"
  },
  "language_info": {
   "codemirror_mode": {
    "name": "ipython",
    "version": 3
   },
   "file_extension": ".py",
   "mimetype": "text/x-python",
   "name": "python",
   "nbconvert_exporter": "python",
   "pygments_lexer": "ipython3",
   "version": "3.7.1"
  }
 },
 "nbformat": 4,
 "nbformat_minor": 2
}
